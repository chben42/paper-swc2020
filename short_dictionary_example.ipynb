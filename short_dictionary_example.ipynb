{
 "cells": [
  {
   "cell_type": "markdown",
   "metadata": {},
   "source": [
    "# Dictionaries in python"
   ]
  },
  {
   "cell_type": "code",
   "execution_count": 1,
   "metadata": {},
   "outputs": [],
   "source": [
    "import numpy"
   ]
  },
  {
   "cell_type": "code",
   "execution_count": 2,
   "metadata": {},
   "outputs": [],
   "source": [
    "dict1 = {} #an empty dictionary"
   ]
  },
  {
   "cell_type": "code",
   "execution_count": 3,
   "metadata": {},
   "outputs": [],
   "source": [
    "key1 = 'key1' #a string for a dictionary key\n",
    "value1 = numpy.array([1,2,3]) #an numpy array as value"
   ]
  },
  {
   "cell_type": "code",
   "execution_count": 4,
   "metadata": {},
   "outputs": [],
   "source": [
    "dict1[key1]= value1 #assign a key/value pair to the dictionary"
   ]
  },
  {
   "cell_type": "code",
   "execution_count": 5,
   "metadata": {},
   "outputs": [
    {
     "data": {
      "text/plain": [
       "array([1, 2, 3])"
      ]
     },
     "execution_count": 5,
     "metadata": {},
     "output_type": "execute_result"
    }
   ],
   "source": [
    "dict1[key1] #recall the value asgied to the specific key in the dictionary"
   ]
  },
  {
   "cell_type": "code",
   "execution_count": 6,
   "metadata": {},
   "outputs": [],
   "source": [
    "key2 = 'a_list'\n",
    "value2 = ['peter','paul','marie','jack','sandra'] #second key/value pair"
   ]
  },
  {
   "cell_type": "code",
   "execution_count": 7,
   "metadata": {},
   "outputs": [],
   "source": [
    "dict1[key2]=value2 #assign a key/value pair to the dictionary"
   ]
  },
  {
   "cell_type": "code",
   "execution_count": 12,
   "metadata": {},
   "outputs": [
    {
     "name": "stdout",
     "output_type": "stream",
     "text": [
      "dict_items([('key1', array([1, 2, 3])), ('a_list', ['peter', 'paul', 'marie', 'jack', 'sandra'])])\n"
     ]
    }
   ],
   "source": [
    "print(dict1.items()) #display the dictionary with its key/value pairs"
   ]
  },
  {
   "cell_type": "code",
   "execution_count": 24,
   "metadata": {},
   "outputs": [],
   "source": [
    "dict2 = {} #second empty dictionary"
   ]
  },
  {
   "cell_type": "markdown",
   "metadata": {},
   "source": [
    "Next I create a random list with random entries and random length"
   ]
  },
  {
   "cell_type": "code",
   "execution_count": 19,
   "metadata": {},
   "outputs": [],
   "source": [
    "rand_list = [numpy.random.rand(1)[0] for i in range(int(numpy.random.rand(1)*100))]"
   ]
  },
  {
   "cell_type": "code",
   "execution_count": 21,
   "metadata": {},
   "outputs": [
    {
     "name": "stdout",
     "output_type": "stream",
     "text": [
      "[0.2360197343448811, 0.8134177533301675, 0.8310400971799574, 0.6903499630091462, 0.972573037737125, 0.07961721121846221, 0.5051923723842597, 0.2669458534183715, 0.04654199528249148, 0.8579696716037258, 0.46040713407250555, 0.10380053334166783, 0.012560408293707193, 0.8029334411794485, 0.19137364414805924, 0.38730260787899307, 0.7241163434203232, 0.8201039676360256, 0.2490530164159076, 0.8754787598338124, 0.5181269686186218, 0.8143266081680236, 0.02841495437921504, 0.7818664700725874, 0.6250804480167338, 0.963404592741704, 0.29221347783051665, 0.7071904857935793, 0.5024682714159815, 0.35054094745427555, 0.07651043962345994, 0.6550355472718413, 0.8616339700936161, 0.7663729635708927, 0.8588496464627053, 0.5857340825822015, 0.7552497525470694, 0.7025351099819375, 0.5882542687012023, 0.23257585182733298, 0.6421221527125658, 0.8463000479903452, 0.9766462063972122, 0.4931584672043977, 0.4969217324611265, 0.5520082192067767, 0.34402372732511277, 0.6619349607085788, 0.6562035115075631, 0.40469531382263846]\n"
     ]
    }
   ],
   "source": [
    "print(rand_list)"
   ]
  },
  {
   "cell_type": "markdown",
   "metadata": {},
   "source": [
    "Now I assigen an key to each element in this list and store both the key and the value as key/value dictionary pair."
   ]
  },
  {
   "cell_type": "code",
   "execution_count": 25,
   "metadata": {},
   "outputs": [],
   "source": [
    "for idx, value in enumerate(rand_list):\n",
    "    dict2['key'+str(idx)]= value"
   ]
  },
  {
   "cell_type": "code",
   "execution_count": 26,
   "metadata": {},
   "outputs": [
    {
     "name": "stdout",
     "output_type": "stream",
     "text": [
      "dict_items([('key0', 0.2360197343448811), ('key1', 0.8134177533301675), ('key2', 0.8310400971799574), ('key3', 0.6903499630091462), ('key4', 0.972573037737125), ('key5', 0.07961721121846221), ('key6', 0.5051923723842597), ('key7', 0.2669458534183715), ('key8', 0.04654199528249148), ('key9', 0.8579696716037258), ('key10', 0.46040713407250555), ('key11', 0.10380053334166783), ('key12', 0.012560408293707193), ('key13', 0.8029334411794485), ('key14', 0.19137364414805924), ('key15', 0.38730260787899307), ('key16', 0.7241163434203232), ('key17', 0.8201039676360256), ('key18', 0.2490530164159076), ('key19', 0.8754787598338124), ('key20', 0.5181269686186218), ('key21', 0.8143266081680236), ('key22', 0.02841495437921504), ('key23', 0.7818664700725874), ('key24', 0.6250804480167338), ('key25', 0.963404592741704), ('key26', 0.29221347783051665), ('key27', 0.7071904857935793), ('key28', 0.5024682714159815), ('key29', 0.35054094745427555), ('key30', 0.07651043962345994), ('key31', 0.6550355472718413), ('key32', 0.8616339700936161), ('key33', 0.7663729635708927), ('key34', 0.8588496464627053), ('key35', 0.5857340825822015), ('key36', 0.7552497525470694), ('key37', 0.7025351099819375), ('key38', 0.5882542687012023), ('key39', 0.23257585182733298), ('key40', 0.6421221527125658), ('key41', 0.8463000479903452), ('key42', 0.9766462063972122), ('key43', 0.4931584672043977), ('key44', 0.4969217324611265), ('key45', 0.5520082192067767), ('key46', 0.34402372732511277), ('key47', 0.6619349607085788), ('key48', 0.6562035115075631), ('key49', 0.40469531382263846)])\n"
     ]
    }
   ],
   "source": [
    "print(dict2.items())"
   ]
  },
  {
   "cell_type": "code",
   "execution_count": null,
   "metadata": {},
   "outputs": [],
   "source": []
  }
 ],
 "metadata": {
  "kernelspec": {
   "display_name": "Python 3",
   "language": "python",
   "name": "python3"
  },
  "language_info": {
   "codemirror_mode": {
    "name": "ipython",
    "version": 3
   },
   "file_extension": ".py",
   "mimetype": "text/x-python",
   "name": "python",
   "nbconvert_exporter": "python",
   "pygments_lexer": "ipython3",
   "version": "3.7.8"
  }
 },
 "nbformat": 4,
 "nbformat_minor": 4
}
